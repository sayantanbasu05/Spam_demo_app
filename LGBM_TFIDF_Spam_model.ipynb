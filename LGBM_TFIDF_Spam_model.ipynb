{
  "nbformat": 4,
  "nbformat_minor": 0,
  "metadata": {
    "colab": {
      "name": "Spam_app.ipynb",
      "provenance": []
    },
    "kernelspec": {
      "name": "python3",
      "display_name": "Python 3"
    }
  },
  "cells": [
    {
      "cell_type": "code",
      "metadata": {
        "id": "gxdCQatwSvcq"
      },
      "source": [
        "import pandas as pd\n",
        "\n",
        "df_train = pd.read_csv('emails.csv')\n",
        "df_train2 = pd.read_csv('spam_ham_dataset.csv')\n",
        "\n",
        "df_train = pd.concat([df_train, df_train2])"
      ],
      "execution_count": 128,
      "outputs": []
    },
    {
      "cell_type": "code",
      "metadata": {
        "id": "Lcp_Fvyr8F7e"
      },
      "source": [
        "df_train['text'] = [i[9:] for i in df_train['text'].values]"
      ],
      "execution_count": 129,
      "outputs": []
    },
    {
      "cell_type": "code",
      "metadata": {
        "colab": {
          "base_uri": "https://localhost:8080/"
        },
        "id": "gB8swfmSfmv9",
        "outputId": "323c9444-08d2-4ad3-e102-037b54daf4ab"
      },
      "source": [
        "import nltk\r\n",
        "nltk.download(\"punkt\")"
      ],
      "execution_count": 142,
      "outputs": [
        {
          "output_type": "stream",
          "text": [
            "[nltk_data] Downloading package punkt to /root/nltk_data...\n",
            "[nltk_data]   Package punkt is already up-to-date!\n"
          ],
          "name": "stdout"
        },
        {
          "output_type": "execute_result",
          "data": {
            "text/plain": [
              "True"
            ]
          },
          "metadata": {
            "tags": []
          },
          "execution_count": 142
        }
      ]
    },
    {
      "cell_type": "code",
      "metadata": {
        "id": "5inmk1NWeG2e"
      },
      "source": [
        "from sklearn.feature_extraction.text import TfidfVectorizer\r\n",
        "from nltk.stem.porter import PorterStemmer\r\n",
        "\r\n",
        "corpus = df_train.text.values\r\n",
        "\r\n",
        "vectorizer2 = TfidfVectorizer( analyzer='word',ngram_range=(1, 2), stop_words='english', max_features=10000)\r\n",
        "Vec2 = vectorizer2.fit_transform(corpus)"
      ],
      "execution_count": 130,
      "outputs": []
    },
    {
      "cell_type": "code",
      "metadata": {
        "id": "ZQCNuunNmTOC"
      },
      "source": [
        "import pickle\n",
        "pickle.dump(vectorizer2, open(\"tfidf.pkl\", 'wb'))"
      ],
      "execution_count": 131,
      "outputs": []
    },
    {
      "cell_type": "code",
      "metadata": {
        "id": "uHizHsPlXA6K"
      },
      "source": [
        "tfidf_vect_df = pd.DataFrame(Vec2.todense(), columns=vectorizer2.get_feature_names())"
      ],
      "execution_count": 132,
      "outputs": []
    },
    {
      "cell_type": "code",
      "metadata": {
        "id": "5uNtVmji6nM8"
      },
      "source": [
        "final_df = tfidf_vect_df"
      ],
      "execution_count": 133,
      "outputs": []
    },
    {
      "cell_type": "code",
      "metadata": {
        "id": "j4o1djSMVnJW"
      },
      "source": [
        "from xgboost import XGBClassifier\n",
        "from sklearn.model_selection import train_test_split\n",
        " \n",
        "X, Y = final_df.values, df_train[\"spam\"].values"
      ],
      "execution_count": 134,
      "outputs": []
    },
    {
      "cell_type": "code",
      "metadata": {
        "id": "KmgG1lUfVsE2"
      },
      "source": [
        "from sklearn.model_selection import train_test_split\n",
        "X_train, X_test, Y_train, Y_test = train_test_split(X, Y, test_size=0.2, random_state=42, stratify=Y)"
      ],
      "execution_count": 135,
      "outputs": []
    },
    {
      "cell_type": "code",
      "metadata": {
        "colab": {
          "base_uri": "https://localhost:8080/"
        },
        "id": "0vJePKU4W0XZ",
        "outputId": "d91ef87c-62b3-42d7-e49c-bfcc5c97ca14"
      },
      "source": [
        "from sklearn.model_selection import train_test_split, KFold, StratifiedKFold\n",
        "from sklearn.metrics import accuracy_score\n",
        "from sklearn.ensemble import RandomForestClassifier\n",
        "from sklearn.linear_model import LogisticRegression\n",
        "from lightgbm import LGBMClassifier\n",
        "#from catboost import CatBoostClassifier\n",
        " \n",
        " \n",
        "kfold, scores = KFold(n_splits=5, shuffle=True, random_state=0), list()\n",
        "for training, testing in kfold.split(X_train):\n",
        "    x_train, x_test = X_train[training], X_train[testing]\n",
        "    y_train, y_test = Y_train[training], Y_train[testing]\n",
        "    \n",
        " \n",
        "    model = LGBMClassifier( n_estimators=17)\n",
        "    #model = CatBoostClassifier(random_state=27,  n_estimators=20, max_depth=4)\n",
        "    model.fit(x_train, y_train)\n",
        "    preds = model.predict(x_test)\n",
        "    score = accuracy_score(y_test, preds)\n",
        "    scores.append(score)\n",
        "    print(score)\n",
        "print(\"Average: \", sum(scores)/len(scores))\n",
        "\n"
      ],
      "execution_count": 136,
      "outputs": [
        {
          "output_type": "stream",
          "text": [
            "0.9524082568807339\n",
            "0.9524082568807339\n",
            "0.9529816513761468\n",
            "0.9650229357798165\n",
            "0.9558232931726908\n",
            "Average:  0.9557288788180245\n"
          ],
          "name": "stdout"
        }
      ]
    },
    {
      "cell_type": "code",
      "metadata": {
        "colab": {
          "base_uri": "https://localhost:8080/",
          "height": 609
        },
        "id": "AxgB-vphyWHW",
        "outputId": "f4f69581-cd23-434d-8ee2-976633d9c355"
      },
      "source": [
        "feat_imp = pd.Series(model.feature_importances_, index=final_df.columns)\n",
        "feat_imp.nlargest(50).plot(kind='barh', figsize=(8,10))"
      ],
      "execution_count": 137,
      "outputs": [
        {
          "output_type": "execute_result",
          "data": {
            "text/plain": [
              "<matplotlib.axes._subplots.AxesSubplot at 0x7fdfb8b1d710>"
            ]
          },
          "metadata": {
            "tags": []
          },
          "execution_count": 137
        },
        {
          "output_type": "display_data",
          "data": {
            "image/png": "[encoded data removed]",
            "text/plain": [
              "<Figure size 576x720 with 1 Axes>"
            ]
          },
          "metadata": {
            "tags": [],
            "needs_background": "light"
          }
        }
      ]
    },
    {
      "cell_type": "code",
      "metadata": {
        "id": "hAPuo_ulrPii"
      },
      "source": [
        "import pickle\r\n",
        "pickle.dump(final_df.columns, open(\"final_df.columns.pkl\", 'wb'))"
      ],
      "execution_count": 138,
      "outputs": []
    },
    {
      "cell_type": "code",
      "metadata": {
        "colab": {
          "base_uri": "https://localhost:8080/"
        },
        "id": "SxQEKqgLjKtb",
        "outputId": "798e2b05-db23-48e3-c0bb-66e44af3f2d9"
      },
      "source": [
        "model = LGBMClassifier( n_estimators=17)\n",
        "model.fit(X_train, Y_train)\n",
        "preds = model.predict(X_test)\n",
        "score = accuracy_score(Y_test, preds)\n",
        "print(score)"
      ],
      "execution_count": 140,
      "outputs": [
        {
          "output_type": "stream",
          "text": [
            "0.9522935779816514\n"
          ],
          "name": "stdout"
        }
      ]
    },
    {
      "cell_type": "code",
      "metadata": {
        "id": "rFNeKFTFZDt3"
      },
      "source": [
        "import pickle\n",
        "pickle.dump(model, open(\"spam_model.pkl\", 'wb'))"
      ],
      "execution_count": 141,
      "outputs": []
    }
  ]
}
